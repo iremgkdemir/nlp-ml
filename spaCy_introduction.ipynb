{
 "cells": [
  {
   "cell_type": "markdown",
   "metadata": {},
   "source": [
    "# <span style=\"color:#c9486f\"> spaCy </span>\n",
    "\n",
    "- Python'da ileri düzey doğal dil işleme (NLP) için kullanılan, ücretsiz ve açık kaynaklı bir kütüphanedir.\n",
    "\n",
    "-  spaCy, büyük miktarda metni işleyen ve \"anlayan\" uygulamalar geliştirmenize yardımcı olur. Bu, chatbotlar, otomatik yanıt sistemleri, bilgi çıkarma araçları gibi uygulamaları içerir."
   ]
  },
  {
   "cell_type": "markdown",
   "metadata": {},
   "source": [
    "\n",
    "#### **spaCY özellikleri**       \n",
    "                                                                                   \n",
    "| ÖZELLİK                       | AÇIKLAMA                                                                 |\n",
    "|-------------------------------|--------------------------------------------------------------------------|\n",
    "| **Tokenizasyon**               | Metni kelimelere, noktalama işaretlerine vb. bölme işlemi.               |\n",
    "| **Dil Bilgisi Etiketleme (POS)**| Kelimelere tür atama işlemi (örneğin, isim, fiil).                      |\n",
    "| **Bağımlılık Ayrıştırma**      | Kelimeler arasındaki sözdizimsel ilişkileri belirleme.                   |\n",
    "| **Lemmatizasyon**              | Kelimeleri kök formlarına indirme.                                       |\n",
    "| **Cümle Sınırı Belirleme (SBD)**| Cümle sınırlarını bulma ve bu sınırları tanımlama.                      |\n",
    "| **Adlandırılmış Varlık Tanıma (NER)**| Metinlerdeki \"gerçek dünya\" nesnelerini (kişi, yer, organizasyon vb.) etiketleme.|\n",
    "| **Varlık Bağlama (EL)**        | Metinlerdeki varlıkları bilgi tabanındaki benzersiz tanımlayıcılara bağlama.|\n",
    "| **Benzerlik**                  | Kelimeler, cümleler veya belgeler arasındaki benzerlikleri ölçme.        |\n",
    "| **Metin Sınıflandırma**        | Bir belgeye veya belgenin bir bölümüne kategoriler veya etiketler atama. |\n",
    "| **Kural Tabanlı Eşleştirme**   | Metin içinde belirli token dizilerini bulma.                             |\n",
    "| **Model Eğitimi**              | Bir istatistiksel modelin tahminlerini güncelleme ve iyileştirme.        |\n",
    "| **Serileştirme**               | Nesneleri dosyalara veya bayt dizilerine kaydetme işlemi.                |\n"
   ]
  },
  {
   "cell_type": "code",
   "execution_count": 5,
   "metadata": {},
   "outputs": [
    {
     "name": "stdout",
     "output_type": "stream",
     "text": [
      "Requirement already satisfied: spacy in c:\\users\\iremg\\appdata\\local\\programs\\python\\python312\\lib\\site-packages (3.7.6)\n",
      "Requirement already satisfied: spacy-legacy<3.1.0,>=3.0.11 in c:\\users\\iremg\\appdata\\local\\programs\\python\\python312\\lib\\site-packages (from spacy) (3.0.12)\n",
      "Requirement already satisfied: spacy-loggers<2.0.0,>=1.0.0 in c:\\users\\iremg\\appdata\\local\\programs\\python\\python312\\lib\\site-packages (from spacy) (1.0.5)\n",
      "Requirement already satisfied: murmurhash<1.1.0,>=0.28.0 in c:\\users\\iremg\\appdata\\local\\programs\\python\\python312\\lib\\site-packages (from spacy) (1.0.10)\n",
      "Requirement already satisfied: cymem<2.1.0,>=2.0.2 in c:\\users\\iremg\\appdata\\local\\programs\\python\\python312\\lib\\site-packages (from spacy) (2.0.8)\n",
      "Requirement already satisfied: preshed<3.1.0,>=3.0.2 in c:\\users\\iremg\\appdata\\local\\programs\\python\\python312\\lib\\site-packages (from spacy) (3.0.9)\n",
      "Requirement already satisfied: thinc<8.3.0,>=8.2.2 in c:\\users\\iremg\\appdata\\local\\programs\\python\\python312\\lib\\site-packages (from spacy) (8.2.5)\n",
      "Requirement already satisfied: wasabi<1.2.0,>=0.9.1 in c:\\users\\iremg\\appdata\\local\\programs\\python\\python312\\lib\\site-packages (from spacy) (1.1.3)\n",
      "Requirement already satisfied: srsly<3.0.0,>=2.4.3 in c:\\users\\iremg\\appdata\\local\\programs\\python\\python312\\lib\\site-packages (from spacy) (2.4.8)\n",
      "Requirement already satisfied: catalogue<2.1.0,>=2.0.6 in c:\\users\\iremg\\appdata\\local\\programs\\python\\python312\\lib\\site-packages (from spacy) (2.0.10)\n",
      "Requirement already satisfied: weasel<0.5.0,>=0.1.0 in c:\\users\\iremg\\appdata\\local\\programs\\python\\python312\\lib\\site-packages (from spacy) (0.4.1)\n",
      "Requirement already satisfied: typer<1.0.0,>=0.3.0 in c:\\users\\iremg\\appdata\\local\\programs\\python\\python312\\lib\\site-packages (from spacy) (0.12.4)\n",
      "Requirement already satisfied: tqdm<5.0.0,>=4.38.0 in c:\\users\\iremg\\appdata\\local\\programs\\python\\python312\\lib\\site-packages (from spacy) (4.66.5)\n",
      "Requirement already satisfied: requests<3.0.0,>=2.13.0 in c:\\users\\iremg\\appdata\\local\\programs\\python\\python312\\lib\\site-packages (from spacy) (2.32.3)\n",
      "Requirement already satisfied: pydantic!=1.8,!=1.8.1,<3.0.0,>=1.7.4 in c:\\users\\iremg\\appdata\\local\\programs\\python\\python312\\lib\\site-packages (from spacy) (2.8.2)\n",
      "Requirement already satisfied: jinja2 in c:\\users\\iremg\\appdata\\local\\programs\\python\\python312\\lib\\site-packages (from spacy) (3.1.4)\n",
      "Requirement already satisfied: setuptools in c:\\users\\iremg\\appdata\\local\\programs\\python\\python312\\lib\\site-packages (from spacy) (72.1.0)\n",
      "Requirement already satisfied: packaging>=20.0 in c:\\users\\iremg\\appdata\\local\\programs\\python\\python312\\lib\\site-packages (from spacy) (24.1)\n",
      "Requirement already satisfied: langcodes<4.0.0,>=3.2.0 in c:\\users\\iremg\\appdata\\local\\programs\\python\\python312\\lib\\site-packages (from spacy) (3.4.0)\n",
      "Requirement already satisfied: numpy>=1.19.0 in c:\\users\\iremg\\appdata\\local\\programs\\python\\python312\\lib\\site-packages (from spacy) (1.26.4)\n",
      "Requirement already satisfied: language-data>=1.2 in c:\\users\\iremg\\appdata\\local\\programs\\python\\python312\\lib\\site-packages (from langcodes<4.0.0,>=3.2.0->spacy) (1.2.0)\n",
      "Requirement already satisfied: annotated-types>=0.4.0 in c:\\users\\iremg\\appdata\\local\\programs\\python\\python312\\lib\\site-packages (from pydantic!=1.8,!=1.8.1,<3.0.0,>=1.7.4->spacy) (0.7.0)\n",
      "Requirement already satisfied: pydantic-core==2.20.1 in c:\\users\\iremg\\appdata\\local\\programs\\python\\python312\\lib\\site-packages (from pydantic!=1.8,!=1.8.1,<3.0.0,>=1.7.4->spacy) (2.20.1)\n",
      "Requirement already satisfied: typing-extensions>=4.6.1 in c:\\users\\iremg\\appdata\\local\\programs\\python\\python312\\lib\\site-packages (from pydantic!=1.8,!=1.8.1,<3.0.0,>=1.7.4->spacy) (4.12.2)\n",
      "Requirement already satisfied: charset-normalizer<4,>=2 in c:\\users\\iremg\\appdata\\local\\programs\\python\\python312\\lib\\site-packages (from requests<3.0.0,>=2.13.0->spacy) (3.3.2)\n",
      "Requirement already satisfied: idna<4,>=2.5 in c:\\users\\iremg\\appdata\\local\\programs\\python\\python312\\lib\\site-packages (from requests<3.0.0,>=2.13.0->spacy) (3.7)\n",
      "Requirement already satisfied: urllib3<3,>=1.21.1 in c:\\users\\iremg\\appdata\\local\\programs\\python\\python312\\lib\\site-packages (from requests<3.0.0,>=2.13.0->spacy) (2.2.2)\n",
      "Requirement already satisfied: certifi>=2017.4.17 in c:\\users\\iremg\\appdata\\local\\programs\\python\\python312\\lib\\site-packages (from requests<3.0.0,>=2.13.0->spacy) (2024.7.4)\n",
      "Requirement already satisfied: blis<0.8.0,>=0.7.8 in c:\\users\\iremg\\appdata\\local\\programs\\python\\python312\\lib\\site-packages (from thinc<8.3.0,>=8.2.2->spacy) (0.7.11)\n",
      "Requirement already satisfied: confection<1.0.0,>=0.0.1 in c:\\users\\iremg\\appdata\\local\\programs\\python\\python312\\lib\\site-packages (from thinc<8.3.0,>=8.2.2->spacy) (0.1.5)\n",
      "Requirement already satisfied: colorama in c:\\users\\iremg\\appdata\\roaming\\python\\python312\\site-packages (from tqdm<5.0.0,>=4.38.0->spacy) (0.4.6)\n",
      "Requirement already satisfied: click>=8.0.0 in c:\\users\\iremg\\appdata\\local\\programs\\python\\python312\\lib\\site-packages (from typer<1.0.0,>=0.3.0->spacy) (8.1.7)\n",
      "Requirement already satisfied: shellingham>=1.3.0 in c:\\users\\iremg\\appdata\\local\\programs\\python\\python312\\lib\\site-packages (from typer<1.0.0,>=0.3.0->spacy) (1.5.4)\n",
      "Requirement already satisfied: rich>=10.11.0 in c:\\users\\iremg\\appdata\\local\\programs\\python\\python312\\lib\\site-packages (from typer<1.0.0,>=0.3.0->spacy) (13.7.1)\n",
      "Requirement already satisfied: cloudpathlib<1.0.0,>=0.7.0 in c:\\users\\iremg\\appdata\\local\\programs\\python\\python312\\lib\\site-packages (from weasel<0.5.0,>=0.1.0->spacy) (0.18.1)\n",
      "Requirement already satisfied: smart-open<8.0.0,>=5.2.1 in c:\\users\\iremg\\appdata\\local\\programs\\python\\python312\\lib\\site-packages (from weasel<0.5.0,>=0.1.0->spacy) (7.0.4)\n",
      "Requirement already satisfied: MarkupSafe>=2.0 in c:\\users\\iremg\\appdata\\local\\programs\\python\\python312\\lib\\site-packages (from jinja2->spacy) (2.1.5)\n",
      "Requirement already satisfied: marisa-trie>=0.7.7 in c:\\users\\iremg\\appdata\\local\\programs\\python\\python312\\lib\\site-packages (from language-data>=1.2->langcodes<4.0.0,>=3.2.0->spacy) (1.2.0)\n",
      "Requirement already satisfied: markdown-it-py>=2.2.0 in c:\\users\\iremg\\appdata\\local\\programs\\python\\python312\\lib\\site-packages (from rich>=10.11.0->typer<1.0.0,>=0.3.0->spacy) (3.0.0)\n",
      "Requirement already satisfied: pygments<3.0.0,>=2.13.0 in c:\\users\\iremg\\appdata\\roaming\\python\\python312\\site-packages (from rich>=10.11.0->typer<1.0.0,>=0.3.0->spacy) (2.18.0)\n",
      "Requirement already satisfied: wrapt in c:\\users\\iremg\\appdata\\local\\programs\\python\\python312\\lib\\site-packages (from smart-open<8.0.0,>=5.2.1->weasel<0.5.0,>=0.1.0->spacy) (1.16.0)\n",
      "Requirement already satisfied: mdurl~=0.1 in c:\\users\\iremg\\appdata\\local\\programs\\python\\python312\\lib\\site-packages (from markdown-it-py>=2.2.0->rich>=10.11.0->typer<1.0.0,>=0.3.0->spacy) (0.1.2)\n"
     ]
    }
   ],
   "source": [
    "!pip install spacy\n"
   ]
  },
  {
   "cell_type": "code",
   "execution_count": 18,
   "metadata": {},
   "outputs": [
    {
     "name": "stdout",
     "output_type": "stream",
     "text": [
      "3.7.6\n"
     ]
    }
   ],
   "source": [
    "import spacy\n",
    "\n",
    "print(spacy.__version__)\n",
    "\n",
    "nlp = spacy.load('en_core_web_md')"
   ]
  },
  {
   "cell_type": "code",
   "execution_count": 7,
   "metadata": {},
   "outputs": [],
   "source": [
    "text = \"\"\"\n",
    "This is one of the greatest films ever made. Brilliant acting by George C. Scott and Diane Riggs. \n",
    "This movie is both disturbing and extremely deep. Don't be fooled into believing this is just a comedy. \n",
    "It is a brilliant satire about the medical profession. It is not a pretty picture.\n",
    " Healthy patients are killed by incompetent surgeons, who spend all their time making money outside the hospital. \n",
    " And yet, you really believe that this is a hospital. \n",
    " The producers were very careful to include real medical terminology and real medical cases. \n",
    " This movie really reveals how difficult in is to run a hospital, and how badly things already were in 1971. \n",
    " I loved this movie. P.S. - I noticed that the incompetent, wheeler dealer surgeon played the head of the firm in \n",
    " LA Law. The young doctor played in Lou Grant. \n",
    " I also noticed that the registration nurse has appeared since in Becker and other shows.\n",
    "\"\"\""
   ]
  },
  {
   "cell_type": "markdown",
   "metadata": {},
   "source": [
    "- **nlp Fonksiyonu:** Bu, daha önce yüklenmiş olan spaCy modelini kullanarak metni işler. Burada kullanılan nlp fonksiyonu, metindeki her bir kelimeyi (token), cümleyi ve adlandırılmış varlıkları (NER) analiz eder. Bu işlem, POS etiketleme (tagger), bağımlılık ayrıştırma (parser) ve adlandırılmış varlık tanıma (NER) gibi işlemleri içerir.\n",
    "\n",
    "- **doc Nesnesi:** Bu nesne, metnin işlenmiş halini temsil eder. doc nesnesi içerisinde metindeki tokenlar, cümleler, adlandırılmış varlıklar ve daha fazlası bulunur."
   ]
  },
  {
   "cell_type": "code",
   "execution_count": 8,
   "metadata": {},
   "outputs": [
    {
     "name": "stdout",
     "output_type": "stream",
     "text": [
      "['_', '__bytes__', '__class__', '__delattr__', '__dir__', '__doc__', '__eq__', '__format__', '__ge__', '__getattribute__', '__getitem__', '__getstate__', '__gt__', '__hash__', '__init__', '__init_subclass__', '__iter__', '__le__', '__len__', '__lt__', '__ne__', '__new__', '__pyx_vtable__', '__reduce__', '__reduce_ex__', '__repr__', '__setattr__', '__setstate__', '__sizeof__', '__str__', '__subclasshook__', '__unicode__', '_bulk_merge', '_context', '_get_array_attrs', '_realloc', '_vector', '_vector_norm', 'cats', 'char_span', 'copy', 'count_by', 'doc', 'ents', 'extend_tensor', 'from_array', 'from_bytes', 'from_dict', 'from_disk', 'from_docs', 'from_json', 'get_extension', 'get_lca_matrix', 'has_annotation', 'has_extension', 'has_unknown_spaces', 'has_vector', 'is_nered', 'is_parsed', 'is_sentenced', 'is_tagged', 'lang', 'lang_', 'mem', 'noun_chunks', 'noun_chunks_iterator', 'remove_extension', 'retokenize', 'sentiment', 'sents', 'set_ents', 'set_extension', 'similarity', 'spans', 'tensor', 'text', 'text_with_ws', 'to_array', 'to_bytes', 'to_dict', 'to_disk', 'to_json', 'to_utf8_array', 'user_data', 'user_hooks', 'user_span_hooks', 'user_token_hooks', 'vector', 'vector_norm', 'vocab']\n"
     ]
    }
   ],
   "source": [
    "doc = nlp(text) # tagger, parser, NER\n",
    "print(dir(doc))"
   ]
  },
  {
   "cell_type": "code",
   "execution_count": 23,
   "metadata": {},
   "outputs": [
    {
     "name": "stderr",
     "output_type": "stream",
     "text": [
      "C:\\Users\\iremg\\AppData\\Local\\Temp\\ipykernel_25672\\3566760662.py:1: DeprecationWarning: Importing display from IPython.core.display is deprecated since IPython 7.14, please import from IPython display\n",
      "  from IPython.core.display import display, HTML\n"
     ]
    },
    {
     "data": {
      "text/html": [
       "<iframe src=\"https://spacy.io/images/pipeline.svg\" width=500 height=100></iframe>"
      ],
      "text/plain": [
       "<IPython.core.display.HTML object>"
      ]
     },
     "metadata": {},
     "output_type": "display_data"
    }
   ],
   "source": [
    "from IPython.core.display import display, HTML\n",
    "\n",
    "# Görselin bulunduğu URL\n",
    "spacy_url = 'https://spacy.io/images/pipeline.svg'\n",
    "\n",
    "# URL'yi iframe olarak eklemek\n",
    "iframe = f'<iframe src=\"{spacy_url}\" width=500 height=100></iframe>'\n",
    "\n",
    "# Görseli görüntüleme\n",
    "display(HTML(iframe))\n"
   ]
  },
  {
   "cell_type": "markdown",
   "metadata": {},
   "source": [
    "### Tokinazor"
   ]
  },
  {
   "cell_type": "code",
   "execution_count": 24,
   "metadata": {},
   "outputs": [
    {
     "data": {
      "text/html": [
       "<iframe src=https://spacy.io/images/tokenization.svg width=1500 height=200></iframe>"
      ],
      "text/plain": [
       "<IPython.core.display.HTML object>"
      ]
     },
     "execution_count": 24,
     "metadata": {},
     "output_type": "execute_result"
    }
   ],
   "source": [
    "# SpaCy pipeline\n",
    "spacy_url = 'https://spacy.io/images/tokenization.svg'\n",
    "iframe = '<iframe src={} width=1500 height=200></iframe>'.format(spacy_url)\n",
    "HTML(iframe)"
   ]
  },
  {
   "cell_type": "markdown",
   "metadata": {},
   "source": []
  },
  {
   "cell_type": "code",
   "execution_count": 26,
   "metadata": {},
   "outputs": [
    {
     "name": "stdout",
     "output_type": "stream",
     "text": [
      "TEXT            | LEMMA_          | POS_     | TAG_     | DEP_        | SHAPE_   | IS_ALPHA | IS_STOP  |\n",
      "This            | this            | PRON     | DT       | nsubj       | Xxxx     | True     | True     |\n",
      "is              | be              | AUX      | VBZ      | ROOT        | xx       | True     | True     |\n",
      "one             | one             | NUM      | CD       | attr        | xxx      | True     | True     |\n",
      "of              | of              | ADP      | IN       | prep        | xx       | True     | True     |\n",
      "the             | the             | DET      | DT       | det         | xxx      | True     | True     |\n",
      "greatest        | great           | ADJ      | JJS      | amod        | xxxx     | True     | False    |\n",
      "movie           | movie           | NOUN     | NN       | pobj        | xxxx     | True     | False    |\n",
      ".               | .               | PUNCT    | .        | punct       | .        | False    | False    |\n",
      "I               | I               | PRON     | PRP      | nsubj       | X        | True     | True     |\n",
      "loved           | love            | VERB     | VBD      | ROOT        | xxxx     | True     | False    |\n",
      "It              | it              | PRON     | PRP      | dobj        | Xx       | True     | True     |\n"
     ]
    }
   ],
   "source": [
    "text = \"This is one of the greatest movie. I loved It\"\n",
    "doc = nlp(text)\n",
    "\n",
    "# Sütun başlıklarını yazdır\n",
    "print(f'{\"TEXT\":<15} | {\"LEMMA_\":<15} | {\"POS_\":<8} | {\"TAG_\":<8} | {\"DEP_\":<11} | {\"SHAPE_\":<8} | {\"IS_ALPHA\":<8} | {\"IS_STOP\":<8} |')\n",
    "\n",
    "# Her bir token için özellikleri yazdır\n",
    "for token in doc:\n",
    "    print(f'{token.text:<15} | {token.lemma_:<15} | {token.pos_:<8} | {token.tag_:<8} | {token.dep_:<11} | {token.shape_:<8} | {str(token.is_alpha):<8} | {str(token.is_stop):<8} |')\n"
   ]
  },
  {
   "cell_type": "markdown",
   "metadata": {},
   "source": [
    "**1. Text ve Tokenization:** Metin, nlp fonksiyonu ile tokenize edilir, yani her kelime ya da noktalama işareti birer token haline getirilir.\n",
    "\n",
    "**2.Özelliklerin Çıktısı:** Her bir token için:\n",
    "\n",
    "- **TEXT:** Token'ın metinsel hali.\n",
    "- **LEMMA_:** Token'ın kök hali (örneğin \"loved\" -> \"love\").\n",
    "- **POS_:** Part of Speech (Kelimenin türü, örneğin isim, fiil).\n",
    "- **TAG_:** Daha detaylı kelime türü etiketi.\n",
    "- **DEP_:** Token'ın cümle içindeki bağımlılık ilişkisi.\n",
    "- **SHAPE_:** Token'ın şekil yapısı (örneğin büyük/küçük harf).\n",
    "- **IS_ALPHA:** Token'ın tamamen alfabetik karakterlerden oluşup oluşmadığı.\n",
    "- **IS_STOP:** Token'ın bir stop-word (çok sık kullanılan ve genellikle analizlerde göz ardı edilen kelime) olup olmadığı.\n",
    "\n",
    "\n",
    "!!! `<15` ifadesi, f-string (formatlı string) içinde kullanıldığında, bir değerin soldan hizalanarak ve en az 15 karakter genişliğinde olacak şekilde yazdırılmasını sağlar. "
   ]
  },
  {
   "cell_type": "markdown",
   "metadata": {},
   "source": [
    "`spacy.explain()` fonksiyonu, SpaCy tarafından kullanılan kısaltmaları ve etiketleri açıklamak için kullanılır.\n",
    "\n",
    "- nsubj\" etiketi bir cümlede özne olarak kullanılan ismi belirtir.\n",
    "- AUX\" etiketi, cümlede yardımcı fiilleri belirtir."
   ]
  },
  {
   "cell_type": "code",
   "execution_count": 27,
   "metadata": {},
   "outputs": [
    {
     "data": {
      "text/plain": [
       "'nominal subject'"
      ]
     },
     "execution_count": 27,
     "metadata": {},
     "output_type": "execute_result"
    }
   ],
   "source": [
    "spacy.explain('nsubj')"
   ]
  },
  {
   "cell_type": "code",
   "execution_count": 28,
   "metadata": {},
   "outputs": [
    {
     "data": {
      "text/plain": [
       "'auxiliary'"
      ]
     },
     "execution_count": 28,
     "metadata": {},
     "output_type": "execute_result"
    }
   ],
   "source": [
    "spacy.explain('AUX')"
   ]
  },
  {
   "cell_type": "code",
   "execution_count": 30,
   "metadata": {},
   "outputs": [
    {
     "name": "stdout",
     "output_type": "stream",
     "text": [
      "greatest_movie\n"
     ]
    }
   ],
   "source": [
    "previous_token = doc[0]  #ilk token'ı alıyoruz\n",
    "\n",
    "# Bu döngü, doc içindeki diğer tüm tokenları (kelimeleri) iterasyonla dolaşır.\n",
    "for token in doc[1:]:    \n",
    "    # Eğer önceki token sıfat ise (ADJ) ve mevcut token isim ise (NOUN), bu durumda sıfat ve isim çiftleri ekrana yazdırılır.\n",
    "    if previous_token.pos_ == 'ADJ' and token.pos_ == 'NOUN':\n",
    "        print(f'{previous_token.text}_{token.text}')\n",
    "    \n",
    "    previous_token = token # mevcut token'ı bir sonraki token olarak atıyoruz"
   ]
  },
  {
   "cell_type": "code",
   "execution_count": 31,
   "metadata": {},
   "outputs": [
    {
     "name": "stdout",
     "output_type": "stream",
     "text": [
      "LABEL      | ENTITY         \n",
      "GPE        | India                                             \n"
     ]
    }
   ],
   "source": [
    "ner_text = \"I love my country India, and I love Machine learning\"\n",
    "\n",
    "ner_doc = nlp(ner_text) #  Metin SpaCy'nin NLP modeline aktarılır ve analiz edilir.\n",
    "print('{:10} | {:15}'.format('LABEL','ENTITY')) # sütun başlıklarını yazdır\n",
    "\n",
    "for ent in ner_doc.ents:\n",
    "    print('{:10} | {:50}'.format(ent.label_, ent.text)) # etiket ve varlık bilgilerini yazdır"
   ]
  },
  {
   "cell_type": "code",
   "execution_count": 32,
   "metadata": {},
   "outputs": [],
   "source": [
    "from spacy import displacy"
   ]
  },
  {
   "cell_type": "code",
   "execution_count": 35,
   "metadata": {},
   "outputs": [
    {
     "data": {
      "text/html": [
       "<span class=\"tex2jax_ignore\"><div class=\"entities\" style=\"line-height: 2.5; direction: ltr\">I love my country \n",
       "<mark class=\"entity\" style=\"background: #feca74; padding: 0.45em 0.6em; margin: 0 0.25em; line-height: 1; border-radius: 0.35em;\">\n",
       "    India\n",
       "    <span style=\"font-size: 0.8em; font-weight: bold; line-height: 1; border-radius: 0.35em; vertical-align: middle; margin-left: 0.5rem\">GPE</span>\n",
       "</mark>\n",
       ", and I love Machine learning</div></span>"
      ],
      "text/plain": [
       "<IPython.core.display.HTML object>"
      ]
     },
     "metadata": {},
     "output_type": "display_data"
    }
   ],
   "source": [
    "displacy.render(docs=ner_doc, style='ent', jupyter=True)"
   ]
  },
  {
   "cell_type": "markdown",
   "metadata": {},
   "source": [
    "- docs=ner_doc: ner_doc, daha önce bir metni işleyerek oluşturduğunuz doküman (doc) nesnesidir. Bu doküman içinde SpaCy, metindeki isimlendirilmiş varlıkları (entities) tanımlamıştır.\n",
    "\n",
    "- style='ent': Bu parametre, görselleştirmede varlıkların (entities) kullanılacağını belirtir.\n",
    "\n",
    "- jupyter=True: Bu parametre, çıktının Jupyter Notebook içinde görselleştirilmesini sağlar."
   ]
  },
  {
   "cell_type": "code",
   "execution_count": null,
   "metadata": {},
   "outputs": [
    {
     "data": {
      "text/plain": [
       "'Countries, cities, states'"
      ]
     },
     "execution_count": 34,
     "metadata": {},
     "output_type": "execute_result"
    }
   ],
   "source": [
    "spacy.explain('GPE')"
   ]
  },
  {
   "cell_type": "markdown",
   "metadata": {},
   "source": [
    "Bu etiket, SpaCy'nin tanımladığı bir isimlendirilmiş varlık türüdür ve \"Geopolitical Entity\" anlamına gelir. Yani, ülkeler, şehirler, eyaletler gibi coğrafi ve politik varlıkları tanımlar."
   ]
  },
  {
   "cell_type": "markdown",
   "metadata": {},
   "source": []
  }
 ],
 "metadata": {
  "kernelspec": {
   "display_name": "Python 3",
   "language": "python",
   "name": "python3"
  },
  "language_info": {
   "codemirror_mode": {
    "name": "ipython",
    "version": 3
   },
   "file_extension": ".py",
   "mimetype": "text/x-python",
   "name": "python",
   "nbconvert_exporter": "python",
   "pygments_lexer": "ipython3",
   "version": "3.12.4"
  }
 },
 "nbformat": 4,
 "nbformat_minor": 2
}
